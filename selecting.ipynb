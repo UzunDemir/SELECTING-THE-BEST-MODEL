{
 "cells": [
  {
   "cell_type": "markdown",
   "id": "8c2d5c1d-5251-4210-8ec3-cabac08b4d75",
   "metadata": {},
   "source": [
    "Этот модуль дает интуитивно понятное введение в очень фундаментальные концепции переобучения и недообучения в машинном обучении.\n",
    "\n",
    "Модели машинного обучения никогда не могут делать идеальные прогнозы: ошибка теста никогда не равна нулю. Этот провал происходит из -за фундаментального компромисса между гибкостью моделирования и ограниченным размером обучающего набора данных .\n",
    "\n",
    "Первая презентация определит эти проблемы и охарактеризует, как и почему они возникают.\n",
    "\n",
    "Затем мы представим методологию количественной оценки этих проблем путем сравнения ошибки поезда с ошибкой теста для различного выбора семейства моделей и параметров модели. Что еще более важно, мы подчеркнем влияние размера обучающей выборки на этот компромисс .\n",
    "\n",
    "Наконец, мы свяжем переоснащение и недообучение с понятиями статистической дисперсии и систематической ошибки."
   ]
  },
  {
   "cell_type": "markdown",
   "id": "1fa8a5e6-94ab-4bab-8ce8-08ce0c8e556a",
   "metadata": {},
   "source": [
    "адачи в модуле следующие:\n",
    "\n",
    "понять концепцию переобучения и недообучения;\n",
    "\n",
    "понимать понятие обобщения;\n",
    "\n",
    "понимать общую структуру перекрестной проверки, используемую для оценки модели."
   ]
  },
  {
   "cell_type": "markdown",
   "id": "4283c174-f652-49ca-a1c7-f73174d4df42",
   "metadata": {},
   "source": [
    "### Overfitting and underfitting"
   ]
  },
  {
   "cell_type": "markdown",
   "id": "7c9dcf13-2e5b-4c41-a3b4-5801a51ca140",
   "metadata": {},
   "source": [
    "Cross-validation framework\n",
    "\n",
    "Структура перекрестной проверки \n",
    "\n",
    "В предыдущих записных книжках мы вводим некоторые понятия, касающиеся оценки прогностических моделей. Хотя этот раздел может быть немного избыточным, мы намерены подробно остановиться на структуре перекрестной проверки.\n",
    "\n",
    "Прежде чем мы углубимся в это, давайте остановимся на причинах всегда иметь наборы для обучения и тестирования. Давайте сначала рассмотрим ограничение использования набора данных без исключения каких-либо образцов.\n",
    "\n",
    "Чтобы проиллюстрировать различные концепции, мы будем использовать набор данных о жилье в Калифорнии."
   ]
  },
  {
   "cell_type": "code",
   "execution_count": 1,
   "id": "a18b0839-b9ca-40ab-bdab-0cf78d8dd3af",
   "metadata": {},
   "outputs": [],
   "source": [
    "from sklearn.datasets import fetch_california_housing\n",
    "\n",
    "housing = fetch_california_housing(as_frame=True)\n",
    "data, target = housing.data, housing.target"
   ]
  },
  {
   "cell_type": "markdown",
   "id": "a3a0395e-9ab7-4c38-89a8-700d843eee2b",
   "metadata": {},
   "source": [
    "В этом наборе данных цель состоит в том, чтобы предсказать медианную стоимость домов в районе Калифорнии. Собранные функции основаны на общей информации о недвижимости и географических данных.\n",
    "\n",
    "Поэтому задача для решения отличается от той, что показана в предыдущей тетради. Предсказываемая цель является непрерывной переменной, а не дискретной. Эта задача называется регрессией.\n",
    "\n",
    "Для этого мы будем использовать прогностическую модель, специфичную для регрессии, а не для классификации."
   ]
  },
  {
   "cell_type": "code",
   "execution_count": 2,
   "id": "769892e2-1eb4-4777-9eb8-3a366808ba9d",
   "metadata": {},
   "outputs": [
    {
     "name": "stdout",
     "output_type": "stream",
     "text": [
      ".. _california_housing_dataset:\n",
      "\n",
      "California Housing dataset\n",
      "--------------------------\n",
      "\n",
      "**Data Set Characteristics:**\n",
      "\n",
      "    :Number of Instances: 20640\n",
      "\n",
      "    :Number of Attributes: 8 numeric, predictive attributes and the target\n",
      "\n",
      "    :Attribute Information:\n",
      "        - MedInc        median income in block\n",
      "        - HouseAge      median house age in block\n",
      "        - AveRooms      average number of rooms\n",
      "        - AveBedrms     average number of bedrooms\n",
      "        - Population    block population\n",
      "        - AveOccup      average house occupancy\n",
      "        - Latitude      house block latitude\n",
      "        - Longitude     house block longitude\n",
      "\n",
      "    :Missing Attribute Values: None\n",
      "\n",
      "This dataset was obtained from the StatLib repository.\n",
      "http://lib.stat.cmu.edu/datasets/\n",
      "\n",
      "The target variable is the median house value for California districts.\n",
      "\n",
      "This dataset was derived from the 1990 U.S. census, using one row per census\n",
      "block group. A block group is the smallest geographical unit for which the U.S.\n",
      "Census Bureau publishes sample data (a block group typically has a population\n",
      "of 600 to 3,000 people).\n",
      "\n",
      "It can be downloaded/loaded using the\n",
      ":func:`sklearn.datasets.fetch_california_housing` function.\n",
      "\n",
      ".. topic:: References\n",
      "\n",
      "    - Pace, R. Kelley and Ronald Barry, Sparse Spatial Autoregressions,\n",
      "      Statistics and Probability Letters, 33 (1997) 291-297\n",
      "\n"
     ]
    }
   ],
   "source": [
    "print(housing.DESCR)"
   ]
  },
  {
   "cell_type": "code",
   "execution_count": 3,
   "id": "889ee6f3-2d56-4c0f-80e6-85428bb1d1f6",
   "metadata": {},
   "outputs": [
    {
     "data": {
      "text/html": [
       "<div>\n",
       "<style scoped>\n",
       "    .dataframe tbody tr th:only-of-type {\n",
       "        vertical-align: middle;\n",
       "    }\n",
       "\n",
       "    .dataframe tbody tr th {\n",
       "        vertical-align: top;\n",
       "    }\n",
       "\n",
       "    .dataframe thead th {\n",
       "        text-align: right;\n",
       "    }\n",
       "</style>\n",
       "<table border=\"1\" class=\"dataframe\">\n",
       "  <thead>\n",
       "    <tr style=\"text-align: right;\">\n",
       "      <th></th>\n",
       "      <th>MedInc</th>\n",
       "      <th>HouseAge</th>\n",
       "      <th>AveRooms</th>\n",
       "      <th>AveBedrms</th>\n",
       "      <th>Population</th>\n",
       "      <th>AveOccup</th>\n",
       "      <th>Latitude</th>\n",
       "      <th>Longitude</th>\n",
       "    </tr>\n",
       "  </thead>\n",
       "  <tbody>\n",
       "    <tr>\n",
       "      <th>0</th>\n",
       "      <td>8.3252</td>\n",
       "      <td>41.0</td>\n",
       "      <td>6.984127</td>\n",
       "      <td>1.023810</td>\n",
       "      <td>322.0</td>\n",
       "      <td>2.555556</td>\n",
       "      <td>37.88</td>\n",
       "      <td>-122.23</td>\n",
       "    </tr>\n",
       "    <tr>\n",
       "      <th>1</th>\n",
       "      <td>8.3014</td>\n",
       "      <td>21.0</td>\n",
       "      <td>6.238137</td>\n",
       "      <td>0.971880</td>\n",
       "      <td>2401.0</td>\n",
       "      <td>2.109842</td>\n",
       "      <td>37.86</td>\n",
       "      <td>-122.22</td>\n",
       "    </tr>\n",
       "    <tr>\n",
       "      <th>2</th>\n",
       "      <td>7.2574</td>\n",
       "      <td>52.0</td>\n",
       "      <td>8.288136</td>\n",
       "      <td>1.073446</td>\n",
       "      <td>496.0</td>\n",
       "      <td>2.802260</td>\n",
       "      <td>37.85</td>\n",
       "      <td>-122.24</td>\n",
       "    </tr>\n",
       "    <tr>\n",
       "      <th>3</th>\n",
       "      <td>5.6431</td>\n",
       "      <td>52.0</td>\n",
       "      <td>5.817352</td>\n",
       "      <td>1.073059</td>\n",
       "      <td>558.0</td>\n",
       "      <td>2.547945</td>\n",
       "      <td>37.85</td>\n",
       "      <td>-122.25</td>\n",
       "    </tr>\n",
       "    <tr>\n",
       "      <th>4</th>\n",
       "      <td>3.8462</td>\n",
       "      <td>52.0</td>\n",
       "      <td>6.281853</td>\n",
       "      <td>1.081081</td>\n",
       "      <td>565.0</td>\n",
       "      <td>2.181467</td>\n",
       "      <td>37.85</td>\n",
       "      <td>-122.25</td>\n",
       "    </tr>\n",
       "  </tbody>\n",
       "</table>\n",
       "</div>"
      ],
      "text/plain": [
       "   MedInc  HouseAge  AveRooms  AveBedrms  Population  AveOccup  Latitude  \\\n",
       "0  8.3252      41.0  6.984127   1.023810       322.0  2.555556     37.88   \n",
       "1  8.3014      21.0  6.238137   0.971880      2401.0  2.109842     37.86   \n",
       "2  7.2574      52.0  8.288136   1.073446       496.0  2.802260     37.85   \n",
       "3  5.6431      52.0  5.817352   1.073059       558.0  2.547945     37.85   \n",
       "4  3.8462      52.0  6.281853   1.081081       565.0  2.181467     37.85   \n",
       "\n",
       "   Longitude  \n",
       "0    -122.23  \n",
       "1    -122.22  \n",
       "2    -122.24  \n",
       "3    -122.25  \n",
       "4    -122.25  "
      ]
     },
     "execution_count": 3,
     "metadata": {},
     "output_type": "execute_result"
    }
   ],
   "source": [
    "data.head()"
   ]
  },
  {
   "cell_type": "code",
   "execution_count": 4,
   "id": "271843cb-629c-448f-868f-1b86e300bbcc",
   "metadata": {},
   "outputs": [
    {
     "data": {
      "text/plain": [
       "0    4.526\n",
       "1    3.585\n",
       "2    3.521\n",
       "3    3.413\n",
       "4    3.422\n",
       "Name: MedHouseVal, dtype: float64"
      ]
     },
     "execution_count": 4,
     "metadata": {},
     "output_type": "execute_result"
    }
   ],
   "source": [
    "target.head()"
   ]
  },
  {
   "cell_type": "markdown",
   "id": "f5db0ad2-33fe-4390-b03d-fbb088f18af6",
   "metadata": {},
   "source": [
    "Чтобы упростить будущую визуализацию, давайте преобразуем цены из диапазона 100 (k$) \n",
    "\n",
    "в диапазон тысяч долларов (k$)."
   ]
  },
  {
   "cell_type": "code",
   "execution_count": 5,
   "id": "45d45592-47b5-4f9c-9a88-812dd8b27bb4",
   "metadata": {},
   "outputs": [
    {
     "data": {
      "text/plain": [
       "0    452.6\n",
       "1    358.5\n",
       "2    352.1\n",
       "3    341.3\n",
       "4    342.2\n",
       "Name: MedHouseVal, dtype: float64"
      ]
     },
     "execution_count": 5,
     "metadata": {},
     "output_type": "execute_result"
    }
   ],
   "source": [
    "target *= 100\n",
    "target.head()"
   ]
  },
  {
   "cell_type": "markdown",
   "id": "1384d0ce-b137-4c7d-b6cc-bd03cd820ec9",
   "metadata": {},
   "source": [
    "#### Ошибка обучения и ошибка тестирования \n",
    "\n",
    "Чтобы решить эту задачу регрессии, мы будем использовать регрессор дерева решений."
   ]
  },
  {
   "cell_type": "code",
   "execution_count": 8,
   "id": "20ae98dd-dd73-4eba-bcee-d63dffe9af61",
   "metadata": {},
   "outputs": [
    {
     "data": {
      "text/plain": [
       "DecisionTreeRegressor(random_state=0)"
      ]
     },
     "execution_count": 8,
     "metadata": {},
     "output_type": "execute_result"
    }
   ],
   "source": [
    "from sklearn.tree import DecisionTreeRegressor\n",
    "\n",
    "regressor = DecisionTreeRegressor(random_state=0)\n",
    "regressor.fit(data, target)\n"
   ]
  },
  {
   "cell_type": "code",
   "execution_count": 9,
   "id": "15d95a30-f702-4054-9d56-22648d41ed32",
   "metadata": {},
   "outputs": [],
   "source": [
    "from sklearn import set_config\n",
    "set_config(display='diagram')"
   ]
  },
  {
   "cell_type": "code",
   "execution_count": 10,
   "id": "aeaf3451-f9e8-4e50-ac78-a07dadca1fae",
   "metadata": {},
   "outputs": [
    {
     "data": {
      "text/html": [
       "<style>#sk-596e7022-b455-439c-88b5-59493e5055a6 {color: black;background-color: white;}#sk-596e7022-b455-439c-88b5-59493e5055a6 pre{padding: 0;}#sk-596e7022-b455-439c-88b5-59493e5055a6 div.sk-toggleable {background-color: white;}#sk-596e7022-b455-439c-88b5-59493e5055a6 label.sk-toggleable__label {cursor: pointer;display: block;width: 100%;margin-bottom: 0;padding: 0.2em 0.3em;box-sizing: border-box;text-align: center;}#sk-596e7022-b455-439c-88b5-59493e5055a6 div.sk-toggleable__content {max-height: 0;max-width: 0;overflow: hidden;text-align: left;background-color: #f0f8ff;}#sk-596e7022-b455-439c-88b5-59493e5055a6 div.sk-toggleable__content pre {margin: 0.2em;color: black;border-radius: 0.25em;background-color: #f0f8ff;}#sk-596e7022-b455-439c-88b5-59493e5055a6 input.sk-toggleable__control:checked~div.sk-toggleable__content {max-height: 200px;max-width: 100%;overflow: auto;}#sk-596e7022-b455-439c-88b5-59493e5055a6 div.sk-estimator input.sk-toggleable__control:checked~label.sk-toggleable__label {background-color: #d4ebff;}#sk-596e7022-b455-439c-88b5-59493e5055a6 div.sk-label input.sk-toggleable__control:checked~label.sk-toggleable__label {background-color: #d4ebff;}#sk-596e7022-b455-439c-88b5-59493e5055a6 input.sk-hidden--visually {border: 0;clip: rect(1px 1px 1px 1px);clip: rect(1px, 1px, 1px, 1px);height: 1px;margin: -1px;overflow: hidden;padding: 0;position: absolute;width: 1px;}#sk-596e7022-b455-439c-88b5-59493e5055a6 div.sk-estimator {font-family: monospace;background-color: #f0f8ff;margin: 0.25em 0.25em;border: 1px dotted black;border-radius: 0.25em;box-sizing: border-box;}#sk-596e7022-b455-439c-88b5-59493e5055a6 div.sk-estimator:hover {background-color: #d4ebff;}#sk-596e7022-b455-439c-88b5-59493e5055a6 div.sk-parallel-item::after {content: \"\";width: 100%;border-bottom: 1px solid gray;flex-grow: 1;}#sk-596e7022-b455-439c-88b5-59493e5055a6 div.sk-label:hover label.sk-toggleable__label {background-color: #d4ebff;}#sk-596e7022-b455-439c-88b5-59493e5055a6 div.sk-serial::before {content: \"\";position: absolute;border-left: 1px solid gray;box-sizing: border-box;top: 2em;bottom: 0;left: 50%;}#sk-596e7022-b455-439c-88b5-59493e5055a6 div.sk-serial {display: flex;flex-direction: column;align-items: center;background-color: white;}#sk-596e7022-b455-439c-88b5-59493e5055a6 div.sk-item {z-index: 1;}#sk-596e7022-b455-439c-88b5-59493e5055a6 div.sk-parallel {display: flex;align-items: stretch;justify-content: center;background-color: white;}#sk-596e7022-b455-439c-88b5-59493e5055a6 div.sk-parallel-item {display: flex;flex-direction: column;position: relative;background-color: white;}#sk-596e7022-b455-439c-88b5-59493e5055a6 div.sk-parallel-item:first-child::after {align-self: flex-end;width: 50%;}#sk-596e7022-b455-439c-88b5-59493e5055a6 div.sk-parallel-item:last-child::after {align-self: flex-start;width: 50%;}#sk-596e7022-b455-439c-88b5-59493e5055a6 div.sk-parallel-item:only-child::after {width: 0;}#sk-596e7022-b455-439c-88b5-59493e5055a6 div.sk-dashed-wrapped {border: 1px dashed gray;margin: 0.2em;box-sizing: border-box;padding-bottom: 0.1em;background-color: white;position: relative;}#sk-596e7022-b455-439c-88b5-59493e5055a6 div.sk-label label {font-family: monospace;font-weight: bold;background-color: white;display: inline-block;line-height: 1.2em;}#sk-596e7022-b455-439c-88b5-59493e5055a6 div.sk-label-container {position: relative;z-index: 2;text-align: center;}#sk-596e7022-b455-439c-88b5-59493e5055a6 div.sk-container {display: inline-block;position: relative;}</style><div id=\"sk-596e7022-b455-439c-88b5-59493e5055a6\" class\"sk-top-container\"><div class=\"sk-container\"><div class=\"sk-item\"><div class=\"sk-estimator sk-toggleable\"><input class=\"sk-toggleable__control sk-hidden--visually\" id=\"b2ccfef4-3e8c-4a66-893c-b2d98bd84204\" type=\"checkbox\" checked><label class=\"sk-toggleable__label\" for=\"b2ccfef4-3e8c-4a66-893c-b2d98bd84204\">DecisionTreeRegressor</label><div class=\"sk-toggleable__content\"><pre>DecisionTreeRegressor(random_state=0)</pre></div></div></div></div></div>"
      ],
      "text/plain": [
       "DecisionTreeRegressor(random_state=0)"
      ]
     },
     "execution_count": 10,
     "metadata": {},
     "output_type": "execute_result"
    }
   ],
   "source": [
    "regressor"
   ]
  },
  {
   "cell_type": "markdown",
   "id": "6c5e1dcb-dd70-4e45-bf4a-83ba1626f2cb",
   "metadata": {},
   "source": [
    "После обучения регрессора мы хотели бы узнать его потенциальную производительность обобщения после развертывания в рабочей среде. Для этой цели мы используем среднюю абсолютную ошибку, которая дает нам ошибку в исходной единице, т.е. k$."
   ]
  },
  {
   "cell_type": "code",
   "execution_count": 11,
   "id": "2838faf3-0ef3-4fdb-a522-30329a6d1a77",
   "metadata": {},
   "outputs": [
    {
     "name": "stdout",
     "output_type": "stream",
     "text": [
      "On average, our regressor makes an error of 0.00 k$\n"
     ]
    }
   ],
   "source": [
    "from sklearn.metrics import mean_absolute_error\n",
    "\n",
    "target_predicted = regressor.predict(data)\n",
    "score = mean_absolute_error(target, target_predicted)\n",
    "print(f\"On average, our regressor makes an error of {score:.2f} k$\")"
   ]
  },
  {
   "cell_type": "markdown",
   "id": "ebb6c4bf-7d6f-412f-a4bb-8fee468de045",
   "metadata": {},
   "source": [
    "Мы получаем идеальный прогноз без ошибок. Это слишком оптимистично и почти всегда выявляет методологическую проблему при машинном обучении.\n",
    "\n",
    "Действительно, мы тренировались и прогнозировали на одном и том же наборе данных. Поскольку наше дерево решений полностью выросло, каждая выборка в наборе данных хранится в конечном узле. Таким образом, наше дерево решений полностью запоминало набор данных, предоставленный во время, fit и поэтому не допускало ошибок при прогнозировании.\n",
    "\n",
    "Эта рассчитанная выше ошибка называется эмпирической ошибкой или ошибкой обучения ."
   ]
  },
  {
   "cell_type": "markdown",
   "id": "95fab6dd-2010-43a1-8bf4-2f2608b6200e",
   "metadata": {},
   "source": [
    "Мы обучили прогностическую модель, чтобы свести к минимуму ошибку обучения, но наша цель — свести к минимуму ошибку данных, которые не были замечены во время обучения.\n",
    "\n",
    "Эту ошибку также называют ошибкой обобщения или «истинной» ошибкой тестирования ."
   ]
  },
  {
   "cell_type": "markdown",
   "id": "c0d77284-606d-4ba9-abde-1f882e47f8bb",
   "metadata": {},
   "source": [
    "Таким образом, самая основная оценка включает в себя:\n",
    "\n",
    "разделение нашего набора данных на два подмножества: обучающий набор и набор для тестирования;\n",
    "\n",
    "примерка модели на обучающем наборе;\n",
    "\n",
    "оценку ошибки обучения на обучающей выборке;\n",
    "\n",
    "оценка ошибки тестирования на тестовом множестве.\n",
    "\n",
    "Итак, давайте разделим наш набор данных."
   ]
  },
  {
   "cell_type": "code",
   "execution_count": 12,
   "id": "4ab81dc8-ab66-4153-bbfd-2319559d688b",
   "metadata": {},
   "outputs": [],
   "source": [
    "from sklearn.model_selection import train_test_split\n",
    "\n",
    "data_train, data_test, target_train, target_test = train_test_split(\n",
    "    data, target, random_state=0)"
   ]
  },
  {
   "cell_type": "markdown",
   "id": "de87c945-7ceb-4353-8489-79558ea2c6e7",
   "metadata": {},
   "source": [
    "Затем давайте обучим нашу модель."
   ]
  },
  {
   "cell_type": "code",
   "execution_count": 13,
   "id": "0e3fdf12-84f9-430c-8f90-9442699dd218",
   "metadata": {},
   "outputs": [
    {
     "data": {
      "text/html": [
       "<style>#sk-51fdeebd-371f-40ed-95e9-18d1b36e2293 {color: black;background-color: white;}#sk-51fdeebd-371f-40ed-95e9-18d1b36e2293 pre{padding: 0;}#sk-51fdeebd-371f-40ed-95e9-18d1b36e2293 div.sk-toggleable {background-color: white;}#sk-51fdeebd-371f-40ed-95e9-18d1b36e2293 label.sk-toggleable__label {cursor: pointer;display: block;width: 100%;margin-bottom: 0;padding: 0.2em 0.3em;box-sizing: border-box;text-align: center;}#sk-51fdeebd-371f-40ed-95e9-18d1b36e2293 div.sk-toggleable__content {max-height: 0;max-width: 0;overflow: hidden;text-align: left;background-color: #f0f8ff;}#sk-51fdeebd-371f-40ed-95e9-18d1b36e2293 div.sk-toggleable__content pre {margin: 0.2em;color: black;border-radius: 0.25em;background-color: #f0f8ff;}#sk-51fdeebd-371f-40ed-95e9-18d1b36e2293 input.sk-toggleable__control:checked~div.sk-toggleable__content {max-height: 200px;max-width: 100%;overflow: auto;}#sk-51fdeebd-371f-40ed-95e9-18d1b36e2293 div.sk-estimator input.sk-toggleable__control:checked~label.sk-toggleable__label {background-color: #d4ebff;}#sk-51fdeebd-371f-40ed-95e9-18d1b36e2293 div.sk-label input.sk-toggleable__control:checked~label.sk-toggleable__label {background-color: #d4ebff;}#sk-51fdeebd-371f-40ed-95e9-18d1b36e2293 input.sk-hidden--visually {border: 0;clip: rect(1px 1px 1px 1px);clip: rect(1px, 1px, 1px, 1px);height: 1px;margin: -1px;overflow: hidden;padding: 0;position: absolute;width: 1px;}#sk-51fdeebd-371f-40ed-95e9-18d1b36e2293 div.sk-estimator {font-family: monospace;background-color: #f0f8ff;margin: 0.25em 0.25em;border: 1px dotted black;border-radius: 0.25em;box-sizing: border-box;}#sk-51fdeebd-371f-40ed-95e9-18d1b36e2293 div.sk-estimator:hover {background-color: #d4ebff;}#sk-51fdeebd-371f-40ed-95e9-18d1b36e2293 div.sk-parallel-item::after {content: \"\";width: 100%;border-bottom: 1px solid gray;flex-grow: 1;}#sk-51fdeebd-371f-40ed-95e9-18d1b36e2293 div.sk-label:hover label.sk-toggleable__label {background-color: #d4ebff;}#sk-51fdeebd-371f-40ed-95e9-18d1b36e2293 div.sk-serial::before {content: \"\";position: absolute;border-left: 1px solid gray;box-sizing: border-box;top: 2em;bottom: 0;left: 50%;}#sk-51fdeebd-371f-40ed-95e9-18d1b36e2293 div.sk-serial {display: flex;flex-direction: column;align-items: center;background-color: white;}#sk-51fdeebd-371f-40ed-95e9-18d1b36e2293 div.sk-item {z-index: 1;}#sk-51fdeebd-371f-40ed-95e9-18d1b36e2293 div.sk-parallel {display: flex;align-items: stretch;justify-content: center;background-color: white;}#sk-51fdeebd-371f-40ed-95e9-18d1b36e2293 div.sk-parallel-item {display: flex;flex-direction: column;position: relative;background-color: white;}#sk-51fdeebd-371f-40ed-95e9-18d1b36e2293 div.sk-parallel-item:first-child::after {align-self: flex-end;width: 50%;}#sk-51fdeebd-371f-40ed-95e9-18d1b36e2293 div.sk-parallel-item:last-child::after {align-self: flex-start;width: 50%;}#sk-51fdeebd-371f-40ed-95e9-18d1b36e2293 div.sk-parallel-item:only-child::after {width: 0;}#sk-51fdeebd-371f-40ed-95e9-18d1b36e2293 div.sk-dashed-wrapped {border: 1px dashed gray;margin: 0.2em;box-sizing: border-box;padding-bottom: 0.1em;background-color: white;position: relative;}#sk-51fdeebd-371f-40ed-95e9-18d1b36e2293 div.sk-label label {font-family: monospace;font-weight: bold;background-color: white;display: inline-block;line-height: 1.2em;}#sk-51fdeebd-371f-40ed-95e9-18d1b36e2293 div.sk-label-container {position: relative;z-index: 2;text-align: center;}#sk-51fdeebd-371f-40ed-95e9-18d1b36e2293 div.sk-container {display: inline-block;position: relative;}</style><div id=\"sk-51fdeebd-371f-40ed-95e9-18d1b36e2293\" class\"sk-top-container\"><div class=\"sk-container\"><div class=\"sk-item\"><div class=\"sk-estimator sk-toggleable\"><input class=\"sk-toggleable__control sk-hidden--visually\" id=\"863b7b6a-f632-46d0-bda3-a1ff39def10c\" type=\"checkbox\" checked><label class=\"sk-toggleable__label\" for=\"863b7b6a-f632-46d0-bda3-a1ff39def10c\">DecisionTreeRegressor</label><div class=\"sk-toggleable__content\"><pre>DecisionTreeRegressor(random_state=0)</pre></div></div></div></div></div>"
      ],
      "text/plain": [
       "DecisionTreeRegressor(random_state=0)"
      ]
     },
     "execution_count": 13,
     "metadata": {},
     "output_type": "execute_result"
    }
   ],
   "source": [
    "regressor.fit(data_train, target_train)"
   ]
  },
  {
   "cell_type": "markdown",
   "id": "8c882b20-53b2-4578-b92f-b52184b297e1",
   "metadata": {},
   "source": [
    "Наконец, мы оцениваем различные типы ошибок. Начнем с вычисления ошибки обучения."
   ]
  },
  {
   "cell_type": "code",
   "execution_count": 14,
   "id": "8a760c0e-1bfb-4f81-863e-83e5742fb3d4",
   "metadata": {},
   "outputs": [
    {
     "name": "stdout",
     "output_type": "stream",
     "text": [
      "The training error of our model is 0.00 k$\n"
     ]
    }
   ],
   "source": [
    "target_predicted = regressor.predict(data_train)\n",
    "score = mean_absolute_error(target_train, target_predicted)\n",
    "print(f\"The training error of our model is {score:.2f} k$\")"
   ]
  },
  {
   "cell_type": "markdown",
   "id": "33831f33-c7d6-4890-bb2f-f1e523b27647",
   "metadata": {},
   "source": [
    "Мы наблюдаем те же явления, что и в предыдущем эксперименте: наша модель запомнила обучающую выборку. Однако теперь мы вычисляем ошибку тестирования."
   ]
  },
  {
   "cell_type": "code",
   "execution_count": 15,
   "id": "01fb90f6-ef2d-4f63-bd5f-31ea29df1533",
   "metadata": {},
   "outputs": [
    {
     "name": "stdout",
     "output_type": "stream",
     "text": [
      "The testing error of our model is 47.28 k$\n"
     ]
    }
   ],
   "source": [
    "target_predicted = regressor.predict(data_test)\n",
    "score = mean_absolute_error(target_test, target_predicted)\n",
    "print(f\"The testing error of our model is {score:.2f} k$\")"
   ]
  },
  {
   "cell_type": "markdown",
   "id": "297bff72-55bb-41d5-ac53-4bac90bd205e",
   "metadata": {},
   "source": [
    "Эта ошибка тестирования на самом деле связана с тем, что мы ожидали бы от нашей модели, если бы она использовалась в производственной среде."
   ]
  },
  {
   "cell_type": "markdown",
   "id": "ca3bcefc-62c1-4695-b955-dd6140d79fb4",
   "metadata": {
    "tags": []
   },
   "source": [
    "#### Стабильность оценок перекрестной проверки \n",
    "\n",
    "При выполнении одного разделения поезд-тест мы не даем никаких указаний относительно надежности оценки нашей прогностической модели: в частности, если набор тестов мал, эта оценка ошибки тестирования будет нестабильной и не будет отражать «истинная частота ошибок», которую мы наблюдали бы с той же моделью на неограниченном количестве тестовых данных.\n",
    "\n",
    "Например, нам могло повезти, когда мы сделали случайное разделение нашего ограниченного набора данных и случайно выделили некоторые из самых простых для прогнозирования случаев в тестовом наборе: в этом случае оценка ошибки тестирования была бы чрезмерно оптимистичной.\n",
    "\n",
    "Перекрестная проверка позволяет оценить надежность прогностической модели путем повторения процедуры разделения. Это даст несколько ошибок обучения и тестирования и, таким образом, некоторую оценку изменчивости производительности обобщения модели .\n",
    "\n",
    "Существуют разные стратегии перекрестной проверки , сейчас мы сосредоточимся на одной, называемой «перетасовка-разделение». На каждой итерации этой стратегии мы:\n",
    "\n",
    "случайно перетасовать порядок образцов копии полного набора данных;\n",
    "\n",
    "разделить перетасованный набор данных на поезд и тестовый набор;\n",
    "\n",
    "обучить новую модель на поезде;\n",
    "\n",
    "оценить ошибку тестирования на тестовом наборе.\n",
    "\n",
    "Повторяем эту процедуру n_splitsраз. Имейте в виду, что вычислительная стоимость увеличивается с n_splits."
   ]
  },
  {
   "cell_type": "markdown",
   "id": "ea9af073-1e2f-4a31-bd5e-2dd9d457e4c4",
   "metadata": {},
   "source": [
    "![](https://inria.github.io/scikit-learn-mooc/_images/shufflesplit_diagram.png)"
   ]
  },
  {
   "cell_type": "markdown",
   "id": "7940556c-b3ee-462f-ad0a-9b934fdeed8d",
   "metadata": {},
   "source": [
    "На этом рисунке показан частный случай стратегии перекрестной проверки в случайном порядкеn_splits=5 с использованием . Для каждого разделения перекрестной проверки процедура обучает модель на всех красных образцах и оценивает оценку модели на синих образцах."
   ]
  },
  {
   "cell_type": "markdown",
   "id": "233ba5f3-b0b4-432f-9508-9b0053a3193f",
   "metadata": {},
   "source": [
    "В этом случае мы установим n_splits=40, что означает, что всего мы обучим 40 моделей, и все они будут отброшены: мы просто записываем их эффективность обобщения на каждом варианте тестового набора.\n",
    "\n",
    "Чтобы оценить производительность обобщения нашего регрессора, мы можем использовать sklearn.model_selection.cross_validate с sklearn.model_selection.ShuffleSplit объектом:"
   ]
  },
  {
   "cell_type": "code",
   "execution_count": 17,
   "id": "7dc125f2-b1fe-4135-bc9d-270b8c5e2547",
   "metadata": {},
   "outputs": [],
   "source": [
    "from sklearn.model_selection import cross_validate\n",
    "from sklearn.model_selection import ShuffleSplit\n",
    "\n",
    "cv = ShuffleSplit(n_splits=40, test_size=0.3, random_state=0)\n",
    "cv_results = cross_validate(\n",
    "    regressor, data, target, cv=cv, scoring=\"neg_mean_absolute_error\")"
   ]
  },
  {
   "cell_type": "markdown",
   "id": "39f13f60-4afc-4b70-9aed-1b6b08252995",
   "metadata": {},
   "source": [
    "Результаты cv_resultsсохраняются в словаре Python. Мы преобразуем его в фрейм данных pandas, чтобы упростить визуализацию и манипулирование."
   ]
  },
  {
   "cell_type": "code",
   "execution_count": 18,
   "id": "e840d099-5137-4abb-8dbe-9ec91698fa42",
   "metadata": {},
   "outputs": [
    {
     "data": {
      "text/html": [
       "<div>\n",
       "<style scoped>\n",
       "    .dataframe tbody tr th:only-of-type {\n",
       "        vertical-align: middle;\n",
       "    }\n",
       "\n",
       "    .dataframe tbody tr th {\n",
       "        vertical-align: top;\n",
       "    }\n",
       "\n",
       "    .dataframe thead th {\n",
       "        text-align: right;\n",
       "    }\n",
       "</style>\n",
       "<table border=\"1\" class=\"dataframe\">\n",
       "  <thead>\n",
       "    <tr style=\"text-align: right;\">\n",
       "      <th></th>\n",
       "      <th>fit_time</th>\n",
       "      <th>score_time</th>\n",
       "      <th>test_score</th>\n",
       "    </tr>\n",
       "  </thead>\n",
       "  <tbody>\n",
       "    <tr>\n",
       "      <th>0</th>\n",
       "      <td>0.112997</td>\n",
       "      <td>0.000000</td>\n",
       "      <td>-46.909797</td>\n",
       "    </tr>\n",
       "    <tr>\n",
       "      <th>1</th>\n",
       "      <td>0.110834</td>\n",
       "      <td>0.000000</td>\n",
       "      <td>-46.421170</td>\n",
       "    </tr>\n",
       "    <tr>\n",
       "      <th>2</th>\n",
       "      <td>0.112016</td>\n",
       "      <td>0.000000</td>\n",
       "      <td>-47.411089</td>\n",
       "    </tr>\n",
       "    <tr>\n",
       "      <th>3</th>\n",
       "      <td>0.111001</td>\n",
       "      <td>0.002102</td>\n",
       "      <td>-44.319824</td>\n",
       "    </tr>\n",
       "    <tr>\n",
       "      <th>4</th>\n",
       "      <td>0.107722</td>\n",
       "      <td>0.001999</td>\n",
       "      <td>-47.607875</td>\n",
       "    </tr>\n",
       "    <tr>\n",
       "      <th>5</th>\n",
       "      <td>0.108330</td>\n",
       "      <td>0.001993</td>\n",
       "      <td>-45.901300</td>\n",
       "    </tr>\n",
       "    <tr>\n",
       "      <th>6</th>\n",
       "      <td>0.108706</td>\n",
       "      <td>0.001966</td>\n",
       "      <td>-46.572767</td>\n",
       "    </tr>\n",
       "    <tr>\n",
       "      <th>7</th>\n",
       "      <td>0.104813</td>\n",
       "      <td>0.005600</td>\n",
       "      <td>-46.194585</td>\n",
       "    </tr>\n",
       "    <tr>\n",
       "      <th>8</th>\n",
       "      <td>0.106206</td>\n",
       "      <td>0.003693</td>\n",
       "      <td>-45.590236</td>\n",
       "    </tr>\n",
       "    <tr>\n",
       "      <th>9</th>\n",
       "      <td>0.109070</td>\n",
       "      <td>0.002961</td>\n",
       "      <td>-45.727998</td>\n",
       "    </tr>\n",
       "  </tbody>\n",
       "</table>\n",
       "</div>"
      ],
      "text/plain": [
       "   fit_time  score_time  test_score\n",
       "0  0.112997    0.000000  -46.909797\n",
       "1  0.110834    0.000000  -46.421170\n",
       "2  0.112016    0.000000  -47.411089\n",
       "3  0.111001    0.002102  -44.319824\n",
       "4  0.107722    0.001999  -47.607875\n",
       "5  0.108330    0.001993  -45.901300\n",
       "6  0.108706    0.001966  -46.572767\n",
       "7  0.104813    0.005600  -46.194585\n",
       "8  0.106206    0.003693  -45.590236\n",
       "9  0.109070    0.002961  -45.727998"
      ]
     },
     "execution_count": 18,
     "metadata": {},
     "output_type": "execute_result"
    }
   ],
   "source": [
    "import pandas as pd\n",
    "\n",
    "cv_results = pd.DataFrame(cv_results)\n",
    "cv_results.head(10)"
   ]
  },
  {
   "cell_type": "markdown",
   "id": "ebb29b7b-653f-4ddc-80ae-b9835d313421",
   "metadata": {},
   "source": [
    "Оценка — это показатель, для которого более высокие значения означают лучшие результаты. Наоборот, ошибка — это показатель, для которого более низкие значения означают лучшие результаты.\n",
    "\n",
    "Параметр всегда scoring ожидает cross_validate функцию, которая является оценкой.\n",
    "\n",
    "Для простоты все метрики ошибок в scikit-learn, такие как mean_absolute_error, можно преобразовать в оценку, которая будет использоваться в cross_validate. \n",
    "\n",
    "Для этого вам нужно передать строку метрики ошибок с дополнительной neg_строкой впереди параметру scoring; например scoring=\"neg_mean_absolute_error\".\n",
    "\n",
    "В этом случае будет вычислено отрицательное значение средней абсолютной ошибки, что будет эквивалентно баллу."
   ]
  },
  {
   "cell_type": "markdown",
   "id": "cfdce379-6778-4b6f-afd1-3a38f417ee55",
   "metadata": {},
   "source": [
    "Давайте вернем отрицание, чтобы получить реальную ошибку:"
   ]
  },
  {
   "cell_type": "code",
   "execution_count": 19,
   "id": "ad550fe4-78f8-4dbb-bc82-0df5d3bb6b93",
   "metadata": {},
   "outputs": [],
   "source": [
    "cv_results[\"test_error\"] = -cv_results[\"test_score\"]"
   ]
  },
  {
   "cell_type": "markdown",
   "id": "acd271c7-aba6-4236-9141-525e28ff54fc",
   "metadata": {},
   "source": [
    "Давайте проверим результаты перекрестной проверки."
   ]
  },
  {
   "cell_type": "code",
   "execution_count": 20,
   "id": "3ca0f30e-10f9-401c-bfa8-4d716fc3cc1f",
   "metadata": {},
   "outputs": [
    {
     "data": {
      "text/html": [
       "<div>\n",
       "<style scoped>\n",
       "    .dataframe tbody tr th:only-of-type {\n",
       "        vertical-align: middle;\n",
       "    }\n",
       "\n",
       "    .dataframe tbody tr th {\n",
       "        vertical-align: top;\n",
       "    }\n",
       "\n",
       "    .dataframe thead th {\n",
       "        text-align: right;\n",
       "    }\n",
       "</style>\n",
       "<table border=\"1\" class=\"dataframe\">\n",
       "  <thead>\n",
       "    <tr style=\"text-align: right;\">\n",
       "      <th></th>\n",
       "      <th>fit_time</th>\n",
       "      <th>score_time</th>\n",
       "      <th>test_score</th>\n",
       "      <th>test_error</th>\n",
       "    </tr>\n",
       "  </thead>\n",
       "  <tbody>\n",
       "    <tr>\n",
       "      <th>0</th>\n",
       "      <td>0.112997</td>\n",
       "      <td>0.000000</td>\n",
       "      <td>-46.909797</td>\n",
       "      <td>46.909797</td>\n",
       "    </tr>\n",
       "    <tr>\n",
       "      <th>1</th>\n",
       "      <td>0.110834</td>\n",
       "      <td>0.000000</td>\n",
       "      <td>-46.421170</td>\n",
       "      <td>46.421170</td>\n",
       "    </tr>\n",
       "    <tr>\n",
       "      <th>2</th>\n",
       "      <td>0.112016</td>\n",
       "      <td>0.000000</td>\n",
       "      <td>-47.411089</td>\n",
       "      <td>47.411089</td>\n",
       "    </tr>\n",
       "    <tr>\n",
       "      <th>3</th>\n",
       "      <td>0.111001</td>\n",
       "      <td>0.002102</td>\n",
       "      <td>-44.319824</td>\n",
       "      <td>44.319824</td>\n",
       "    </tr>\n",
       "    <tr>\n",
       "      <th>4</th>\n",
       "      <td>0.107722</td>\n",
       "      <td>0.001999</td>\n",
       "      <td>-47.607875</td>\n",
       "      <td>47.607875</td>\n",
       "    </tr>\n",
       "    <tr>\n",
       "      <th>5</th>\n",
       "      <td>0.108330</td>\n",
       "      <td>0.001993</td>\n",
       "      <td>-45.901300</td>\n",
       "      <td>45.901300</td>\n",
       "    </tr>\n",
       "    <tr>\n",
       "      <th>6</th>\n",
       "      <td>0.108706</td>\n",
       "      <td>0.001966</td>\n",
       "      <td>-46.572767</td>\n",
       "      <td>46.572767</td>\n",
       "    </tr>\n",
       "    <tr>\n",
       "      <th>7</th>\n",
       "      <td>0.104813</td>\n",
       "      <td>0.005600</td>\n",
       "      <td>-46.194585</td>\n",
       "      <td>46.194585</td>\n",
       "    </tr>\n",
       "    <tr>\n",
       "      <th>8</th>\n",
       "      <td>0.106206</td>\n",
       "      <td>0.003693</td>\n",
       "      <td>-45.590236</td>\n",
       "      <td>45.590236</td>\n",
       "    </tr>\n",
       "    <tr>\n",
       "      <th>9</th>\n",
       "      <td>0.109070</td>\n",
       "      <td>0.002961</td>\n",
       "      <td>-45.727998</td>\n",
       "      <td>45.727998</td>\n",
       "    </tr>\n",
       "  </tbody>\n",
       "</table>\n",
       "</div>"
      ],
      "text/plain": [
       "   fit_time  score_time  test_score  test_error\n",
       "0  0.112997    0.000000  -46.909797   46.909797\n",
       "1  0.110834    0.000000  -46.421170   46.421170\n",
       "2  0.112016    0.000000  -47.411089   47.411089\n",
       "3  0.111001    0.002102  -44.319824   44.319824\n",
       "4  0.107722    0.001999  -47.607875   47.607875\n",
       "5  0.108330    0.001993  -45.901300   45.901300\n",
       "6  0.108706    0.001966  -46.572767   46.572767\n",
       "7  0.104813    0.005600  -46.194585   46.194585\n",
       "8  0.106206    0.003693  -45.590236   45.590236\n",
       "9  0.109070    0.002961  -45.727998   45.727998"
      ]
     },
     "execution_count": 20,
     "metadata": {},
     "output_type": "execute_result"
    }
   ],
   "source": [
    "cv_results.head(10)"
   ]
  },
  {
   "cell_type": "markdown",
   "id": "c8076c4c-70e0-40ae-abcf-4b06771da91d",
   "metadata": {},
   "source": [
    "Мы получаем информацию о времени для подгонки и прогнозирования на каждой итерации перекрестной проверки. Также мы получаем тестовый балл, который соответствует ошибке тестирования на каждом из сплитов."
   ]
  },
  {
   "cell_type": "code",
   "execution_count": 21,
   "id": "1dc88ee8-6390-4988-966a-2cd375192b4c",
   "metadata": {},
   "outputs": [
    {
     "data": {
      "text/plain": [
       "40"
      ]
     },
     "execution_count": 21,
     "metadata": {},
     "output_type": "execute_result"
    }
   ],
   "source": [
    "len(cv_results)"
   ]
  },
  {
   "cell_type": "markdown",
   "id": "642bd531-0715-45c2-88e6-3240a4c013cd",
   "metadata": {},
   "source": [
    "Мы получаем 40 записей в результирующем фрейме данных, потому что мы выполнили 40 разбиений. Следовательно, мы можем показать распределение ошибок тестирования и, таким образом, оценить его изменчивость."
   ]
  },
  {
   "cell_type": "code",
   "execution_count": 28,
   "id": "e2cdb91f-8d5c-414f-ba88-26de8795713c",
   "metadata": {},
   "outputs": [
    {
     "data": {
      "image/png": "[encoded data removed]",
      "text/plain": [
       "<Figure size 720x504 with 1 Axes>"
      ]
     },
     "metadata": {
      "needs_background": "light"
     },
     "output_type": "display_data"
    }
   ],
   "source": [
    "import matplotlib.pyplot as plt\n",
    "\n",
    "cv_results[\"test_error\"].plot.hist(bins=10, edgecolor=\"black\", figsize =(10, 7))\n",
    "plt.xlabel(\"Mean absolute error (k$)\")\n",
    "_ = plt.title(\"Test error distribution\")\n",
    "\n"
   ]
  },
  {
   "cell_type": "markdown",
   "id": "3d9fc568-ae94-40e4-9b18-76830f1d272f",
   "metadata": {},
   "source": [
    "Мы видим, что ошибка тестирования сгруппирована вокруг 47 тысяч долларов и колеблется от 43 тысяч долларов до 50 тысяч долларов."
   ]
  },
  {
   "cell_type": "code",
   "execution_count": 29,
   "id": "90565285-8552-4691-8b25-d60aec1cfaed",
   "metadata": {},
   "outputs": [
    {
     "name": "stdout",
     "output_type": "stream",
     "text": [
      "The mean cross-validated testing error is: 46.36 k$\n"
     ]
    }
   ],
   "source": [
    "print(f\"The mean cross-validated testing error is: \"\n",
    "      f\"{cv_results['test_error'].mean():.2f} k$\")"
   ]
  },
  {
   "cell_type": "code",
   "execution_count": 30,
   "id": "6077340b-2193-4174-9b65-e209850dcaec",
   "metadata": {},
   "outputs": [
    {
     "name": "stdout",
     "output_type": "stream",
     "text": [
      "The standard deviation of the testing error is: 1.17 k$\n"
     ]
    }
   ],
   "source": [
    "print(f\"The standard deviation of the testing error is: \"\n",
    "      f\"{cv_results['test_error'].std():.2f} k$\")"
   ]
  },
  {
   "cell_type": "markdown",
   "id": "33ff53ae-0fd5-466c-8419-6413aca902c5",
   "metadata": {},
   "source": [
    "Обратите внимание, что стандартное отклонение намного меньше среднего: мы могли бы резюмировать, что наша перекрестная оценка ошибки тестирования составляет 46,36 ± 1,17 тыс. $.\n",
    "\n",
    "Если бы мы обучили одну модель на полном наборе данных (без перекрестной проверки), а затем получили доступ к неограниченному количеству тестовых данных, мы бы ожидали, что ее истинная ошибка тестирования будет близка к этой области.\n",
    "\n",
    "Хотя эта информация интересна сама по себе, ее следует сопоставить с масштабом естественной изменчивости вектора targetв нашем наборе данных.\n",
    "\n",
    "Построим распределение целевой переменной:"
   ]
  },
  {
   "cell_type": "code",
   "execution_count": 32,
   "id": "88483966-4685-44fe-901f-3ed042562d0b",
   "metadata": {},
   "outputs": [
    {
     "data": {
      "image/png": "[encoded data removed]",
      "text/plain": [
       "<Figure size 720x504 with 1 Axes>"
      ]
     },
     "metadata": {
      "needs_background": "light"
     },
     "output_type": "display_data"
    }
   ],
   "source": [
    "target.plot.hist(bins=20, edgecolor=\"black\", figsize =(10, 7))\n",
    "plt.xlabel(\"Median House Value (k$)\")\n",
    "_ = plt.title(\"Target distribution\")"
   ]
  },
  {
   "cell_type": "code",
   "execution_count": 33,
   "id": "5ee762bd-ac87-456a-8c3a-2b77431050fc",
   "metadata": {},
   "outputs": [
    {
     "name": "stdout",
     "output_type": "stream",
     "text": [
      "The standard deviation of the target is: 115.40 k$\n"
     ]
    }
   ],
   "source": [
    "print(f\"The standard deviation of the target is: {target.std():.2f} k$\")"
   ]
  },
  {
   "cell_type": "markdown",
   "id": "c1a14ce2-32a7-46cc-8672-3500e3b00e4d",
   "metadata": {},
   "source": [
    "Целевая переменная колеблется от почти 0 тысяч долларов до 500 тысяч долларов со стандартным отклонением около 115 тысяч долларов.\n",
    "\n",
    "Мы замечаем, что средняя оценка ошибки тестирования, полученная перекрестной проверкой, немного меньше естественного масштаба вариации целевой переменной. Кроме того, стандартное отклонение оценки перекрестной проверки ошибки тестирования еще меньше.\n",
    "\n",
    "Это хорошее начало, но его недостаточно, чтобы решить, достаточно ли хороша производительность обобщения, чтобы сделать наш прогноз полезным на практике.\n",
    "\n",
    "Напомним, что наша модель в среднем дает ошибку около 47 тыс. долл. США. Имея эту информацию и глядя на целевое распределение, такая ошибка может быть приемлемой при прогнозировании домов с 500 тысячами долларов. Однако это было бы проблемой с домом стоимостью 50 тысяч долларов. Таким образом, это указывает на то, что наша метрика (средняя абсолютная ошибка) не идеальна.\n",
    "\n",
    "Вместо этого мы могли бы выбрать показатель относительно целевого значения для прогнозирования: гораздо лучшим выбором была бы средняя абсолютная процентная ошибка.\n",
    "\n",
    "Но во всех случаях ошибка в 47 тысяч долларов может оказаться слишком большой для автоматического использования нашей модели для маркировки стоимости домов без экспертного контроля."
   ]
  },
  {
   "cell_type": "markdown",
   "id": "8807dc6d-a20c-4b5a-857c-f8b99461024d",
   "metadata": {},
   "source": [
    "#### Подробнее о cross_validate\n",
    "\n",
    "Во время перекрестной проверки многие модели обучаются и оцениваются. Действительно, количество элементов в каждом массиве вывода cross_validateявляется результатом одной из этих fit/ scoreпроцедур. Чтобы сделать это явным, можно получить эти подогнанные модели для каждого из расщеплений/складок, передав параметр return_estimator=Trueв cross_validate."
   ]
  },
  {
   "cell_type": "code",
   "execution_count": 34,
   "id": "99360a36-9dec-4fcf-88dc-17ca8a015c60",
   "metadata": {},
   "outputs": [
    {
     "data": {
      "text/plain": [
       "{'fit_time': array([0.13367248, 0.13264561, 0.12363744, 0.12354398, 0.1199131 ]),\n",
       " 'score_time': array([0.00199413, 0.00199533, 0.00199533, 0.00199485, 0.00199509]),\n",
       " 'estimator': [DecisionTreeRegressor(random_state=0),\n",
       "  DecisionTreeRegressor(random_state=0),\n",
       "  DecisionTreeRegressor(random_state=0),\n",
       "  DecisionTreeRegressor(random_state=0),\n",
       "  DecisionTreeRegressor(random_state=0)],\n",
       " 'test_score': array([0.26291527, 0.41947109, 0.44492564, 0.23357874, 0.40788361])}"
      ]
     },
     "execution_count": 34,
     "metadata": {},
     "output_type": "execute_result"
    }
   ],
   "source": [
    "cv_results = cross_validate(regressor, data, target, return_estimator=True)\n",
    "cv_results"
   ]
  },
  {
   "cell_type": "code",
   "execution_count": 35,
   "id": "15e68933-0e7e-4884-8bd3-72e6ff62d1f1",
   "metadata": {},
   "outputs": [
    {
     "data": {
      "text/plain": [
       "[DecisionTreeRegressor(random_state=0),\n",
       " DecisionTreeRegressor(random_state=0),\n",
       " DecisionTreeRegressor(random_state=0),\n",
       " DecisionTreeRegressor(random_state=0),\n",
       " DecisionTreeRegressor(random_state=0)]"
      ]
     },
     "execution_count": 35,
     "metadata": {},
     "output_type": "execute_result"
    }
   ],
   "source": [
    "cv_results[\"estimator\"]"
   ]
  },
  {
   "cell_type": "markdown",
   "id": "18a380fd-b304-4ac8-b40a-0de6826f4c28",
   "metadata": {},
   "source": [
    "Пять регрессоров деревьев решений соответствуют пяти подобранным деревьям решений на разных складках. Доступ к этим регрессорам удобен, \n",
    "\n",
    "потому что он позволяет проверить внутренние подогнанные параметры этих регрессоров.\n",
    "\n",
    "В случае, когда вас интересует только результат теста, scikit-learn предоставляет cross_val_scoreфункцию. \n",
    "\n",
    "Это идентично вызову cross_validateфункции и выбору test_scoreединственного (как мы часто делали в предыдущих блокнотах)."
   ]
  },
  {
   "cell_type": "code",
   "execution_count": 36,
   "id": "0fa704c3-35cb-4b67-b632-8a9919afca0f",
   "metadata": {},
   "outputs": [
    {
     "data": {
      "text/plain": [
       "array([0.26291527, 0.41947109, 0.44492564, 0.23357874, 0.40788361])"
      ]
     },
     "execution_count": 36,
     "metadata": {},
     "output_type": "execute_result"
    }
   ],
   "source": [
    "from sklearn.model_selection import cross_val_score\n",
    "\n",
    "scores = cross_val_score(regressor, data, target)\n",
    "scores"
   ]
  },
  {
   "cell_type": "markdown",
   "id": "3cc152a0-4104-4b2c-b919-e845c885f0da",
   "metadata": {},
   "source": [
    "#### Резюме \n",
    "В этом блокноте мы увидели:\n",
    "\n",
    "необходимость разделения данных на набор train  и test;\n",
    "\n",
    "значение ошибок обучения и тестирования;\n",
    "\n",
    "общая структура перекрестной проверки с возможностью изучения изменений производительности обобщения."
   ]
  },
  {
   "cell_type": "markdown",
   "id": "d92a1458-53a0-4392-adb2-eb5da632eb23",
   "metadata": {},
   "source": [
    "## Overfit-general-underfit"
   ]
  },
  {
   "cell_type": "code",
   "execution_count": 37,
   "id": "3a33bec6-18a0-41ea-8f8b-d0608842cd7b",
   "metadata": {},
   "outputs": [],
   "source": [
    "from sklearn.tree import DecisionTreeRegressor\n",
    "\n",
    "regressor = DecisionTreeRegressor()"
   ]
  },
  {
   "cell_type": "markdown",
   "id": "0d602836-f786-4536-afd5-4b72dc44e26f",
   "metadata": {},
   "source": [
    "#### Переобучение против недообучения \n",
    "Чтобы лучше понять эффективность обобщения нашей модели и, возможно, найти способы ее улучшения, мы сравним ошибку тестирования с ошибкой обучения. Таким образом, нам нужно вычислить ошибку на обучающей выборке, что возможно с помощью cross_validate функции."
   ]
  },
  {
   "cell_type": "code",
   "execution_count": 38,
   "id": "adacbfd9-0dbd-483b-8b30-2719b0365579",
   "metadata": {},
   "outputs": [],
   "source": [
    "import pandas as pd\n",
    "from sklearn.model_selection import cross_validate, ShuffleSplit\n",
    "\n",
    "cv = ShuffleSplit(n_splits=30, test_size=0.2)\n",
    "cv_results = cross_validate(regressor, data, target,\n",
    "                            cv=cv, scoring=\"neg_mean_absolute_error\",\n",
    "                            return_train_score=True, n_jobs=2)\n",
    "cv_results = pd.DataFrame(cv_results)"
   ]
  },
  {
   "cell_type": "markdown",
   "id": "9706b333-f587-4cf7-baf6-330f2a5fcb93",
   "metadata": {},
   "source": [
    "В перекрестной проверке использовалась отрицательная средняя абсолютная ошибка. Преобразуем отрицательную среднюю абсолютную ошибку в положительную среднюю абсолютную ошибку."
   ]
  },
  {
   "cell_type": "code",
   "execution_count": 39,
   "id": "3ff661cf-b44c-4381-b72e-6fbec5572871",
   "metadata": {},
   "outputs": [],
   "source": [
    "scores = pd.DataFrame()\n",
    "scores[[\"train error\", \"test error\"]] = -cv_results[\n",
    "    [\"train_score\", \"test_score\"]]"
   ]
  },
  {
   "cell_type": "code",
   "execution_count": 41,
   "id": "04a7d6ea-3060-41ed-8fd0-9a592f6640cc",
   "metadata": {},
   "outputs": [
    {
     "data": {
      "image/png": "[encoded data removed]",
      "text/plain": [
       "<Figure size 720x504 with 1 Axes>"
      ]
     },
     "metadata": {
      "needs_background": "light"
     },
     "output_type": "display_data"
    }
   ],
   "source": [
    "import matplotlib.pyplot as plt\n",
    "\n",
    "scores.plot.hist(bins=50, edgecolor=\"black\", figsize =(10, 7))\n",
    "plt.xlabel(\"Mean absolute error (k$)\")\n",
    "_ = plt.title(\"Train and test errors distribution via cross-validation\")"
   ]
  },
  {
   "cell_type": "markdown",
   "id": "afa7ce0f-191b-42d4-abad-884e80932454",
   "metadata": {},
   "source": [
    "Построив график распределения ошибок обучения и тестирования, мы получаем информацию о том, является ли наша модель подгонкой, подгонкой (или и тем, и другим одновременно).\n",
    "\n",
    "Здесь мы наблюдаем небольшую ошибку обучения (на самом деле нулевую), что означает, что модель не является недостаточно подходящей : она достаточно гибкая, чтобы фиксировать любые изменения, присутствующие в обучающем наборе.\n",
    "\n",
    "Однако значительно большая ошибка тестирования говорит нам о том, что модель переобучается : модель запомнила множество вариантов обучающего набора, которые можно было бы считать «зашумленными», поскольку они не обобщаются, чтобы помочь нам сделать хороший прогноз на тестовом наборе."
   ]
  },
  {
   "cell_type": "markdown",
   "id": "07cd4dff-c641-432d-8f20-c3dc86361215",
   "metadata": {},
   "source": [
    "#### Кривая проверки \n",
    "Некоторые гиперпараметры модели обычно являются ключом к переходу от модели, которая не подходит, к модели, которая подходит лучше, мы надеемся, пройдя через область, где мы сможем получить хороший баланс между ними. Мы можем получить знания, построив кривую, называемую кривой проверки. Эта кривая также может быть применена к приведенному выше эксперименту и меняет значение гиперпараметра.\n",
    "\n",
    "Для дерева решений max_depthпараметр используется для управления компромиссом между подгонкой и переподгонкой."
   ]
  },
  {
   "cell_type": "code",
   "execution_count": 42,
   "id": "7aa280c1-5f07-470b-8678-1bf1bafd614f",
   "metadata": {},
   "outputs": [
    {
     "name": "stdout",
     "output_type": "stream",
     "text": [
      "Wall time: 7.87 s\n"
     ]
    }
   ],
   "source": [
    "%%time\n",
    "from sklearn.model_selection import validation_curve\n",
    "\n",
    "max_depth = [1, 5, 10, 15, 20, 25]\n",
    "train_scores, test_scores = validation_curve(\n",
    "    regressor, data, target, param_name=\"max_depth\", param_range=max_depth,\n",
    "    cv=cv, scoring=\"neg_mean_absolute_error\", n_jobs=2)\n",
    "train_errors, test_errors = -train_scores, -test_scores"
   ]
  },
  {
   "cell_type": "markdown",
   "id": "1028e297-3e28-4b64-958d-f6e883318127",
   "metadata": {},
   "source": [
    "Теперь, когда мы собрали результаты, мы покажем кривую проверки, нанеся на график ошибки обучения и тестирования (а также их отклонения)."
   ]
  },
  {
   "cell_type": "code",
   "execution_count": 46,
   "id": "e275eda0-8abf-4a6b-a120-e5599954e239",
   "metadata": {},
   "outputs": [
    {
     "data": {
      "image/png": "[encoded data removed]",
      "text/plain": [
       "<Figure size 432x288 with 1 Axes>"
      ]
     },
     "metadata": {
      "needs_background": "light"
     },
     "output_type": "display_data"
    }
   ],
   "source": [
    "plt.plot(max_depth, train_errors.mean(axis=1), label=\"Training error\")\n",
    "plt.plot(max_depth, test_errors.mean(axis=1), label=\"Testing error\")\n",
    "plt.legend()\n",
    "\n",
    "plt.xlabel(\"Maximum depth of decision tree\")\n",
    "plt.ylabel(\"Mean absolute error (k$)\")\n",
    "_ = plt.title(\"Validation curve for decision tree\")"
   ]
  },
  {
   "cell_type": "markdown",
   "id": "0559058e-32ae-49e7-a441-c044debeada7",
   "metadata": {},
   "source": [
    "Кривую валидации можно разделить на три области:\n",
    "\n",
    "Для дерево решений не подходит. Ошибка обучения и, следовательно, ошибка тестирования высоки. Модель слишком ограничена и не может отразить большую часть изменчивости целевой переменной.max_depth < 10\n",
    "\n",
    "Область вокруг соответствует параметру, для которого дерево решений обобщает лучше всего. Он достаточно гибок, чтобы захватить часть изменчивости цели, которая обобщает, не запоминая при этом весь шум в цели.max_depth = 10\n",
    "\n",
    "Для дерево решений переобучается. Ошибка обучения становится очень малой, а ошибка тестирования увеличивается. В этой области модели создают решения специально для зашумленных выборок, что наносит ущерб его способности обобщать тестовые данные.max_depth > 10\n",
    "\n",
    "Обратите внимание, что для модель немного переобучается, так как существует разрыв между ошибкой обучения и ошибкой тестирования. В то же время он также потенциально может немного недооценивать, потому что ошибка обучения все еще далека от нуля (более 30 тысяч долларов), а это означает, что модель все еще может быть слишком ограничена для моделирования интересных частей данных. Однако погрешность тестирования минимальна, а это главное. Это лучший компромисс, которого мы могли бы достичь, просто настроив этот параметр.max_depth = 10\n",
    "\n",
    "Имейте в виду, что просмотр средних ошибок весьма ограничен. Мы также должны посмотреть на стандартное отклонение, чтобы оценить дисперсию оценки. Мы можем повторить тот же график, что и раньше, но на этот раз мы добавим некоторую информацию, чтобы показать стандартное отклонение ошибок."
   ]
  },
  {
   "cell_type": "code",
   "execution_count": 47,
   "id": "8fd8017a-ac73-4f19-86e6-1b7c0dd54d8b",
   "metadata": {},
   "outputs": [
    {
     "data": {
      "image/png": "[encoded data removed]",
      "text/plain": [
       "<Figure size 432x288 with 1 Axes>"
      ]
     },
     "metadata": {
      "needs_background": "light"
     },
     "output_type": "display_data"
    }
   ],
   "source": [
    "plt.errorbar(max_depth, train_errors.mean(axis=1),\n",
    "             yerr=train_errors.std(axis=1), label='Training error')\n",
    "plt.errorbar(max_depth, test_errors.mean(axis=1),\n",
    "             yerr=test_errors.std(axis=1), label='Testing error')\n",
    "plt.legend()\n",
    "\n",
    "plt.xlabel(\"Maximum depth of decision tree\")\n",
    "plt.ylabel(\"Mean absolute error (k$)\")\n",
    "_ = plt.title(\"Validation curve for decision tree\")"
   ]
  },
  {
   "cell_type": "markdown",
   "id": "e77b2924-6f93-4b42-8322-ecf7d6f1eb34",
   "metadata": {},
   "source": [
    "Нам повезло, что дисперсия ошибок была мала по сравнению с их соответствующими значениями, и поэтому сделанные выше выводы вполне ясны. Это не всегда так.\n",
    "\n",
    "Резюме: \n",
    "В этом блокноте мы увидели:\n",
    "\n",
    "как определить, является ли модель обобщающей, переоснащенной или неподходящей;\n",
    "\n",
    "как проверить влияние гиперпараметра на компромисс между недообучением/переоснащением."
   ]
  },
  {
   "cell_type": "markdown",
   "id": "d4cebe8f-37c1-4f27-a131-176fefb07e71",
   "metadata": {},
   "source": [
    "### Влияние размера выборки на перекрестную проверку"
   ]
  },
  {
   "cell_type": "code",
   "execution_count": 48,
   "id": "e93bb052-8e5a-43f4-bb65-c8399cf95afe",
   "metadata": {},
   "outputs": [],
   "source": [
    "from sklearn.tree import DecisionTreeRegressor\n",
    "\n",
    "regressor = DecisionTreeRegressor()"
   ]
  },
  {
   "cell_type": "markdown",
   "id": "f6c932f2-ebb0-4a7b-9c94-f6d8d090c3e4",
   "metadata": {},
   "source": [
    "#### Кривая обучения \n",
    "\n",
    "Чтобы понять влияние количества выборок, доступных для обучения, на эффективность обобщения прогностической модели, можно синтетически уменьшить количество выборок, используемых для обучения прогностической модели, и проверить ошибки обучения и тестирования.\n",
    "\n",
    "Поэтому мы можем варьировать количество образцов в обучающей выборке и повторять эксперимент. Оценки обучения и тестирования можно построить аналогично кривой проверки, но вместо изменения гиперпараметра мы изменяем количество обучающих выборок. Эта кривая называется кривой обучения .\n",
    "\n",
    "Он дает информацию о пользе добавления новых обучающих выборок для улучшения производительности обобщения модели.\n",
    "\n",
    "Давайте вычислим кривую обучения для дерева решений и изменим долю обучающего набора от 10% до 100%."
   ]
  },
  {
   "cell_type": "code",
   "execution_count": 54,
   "id": "c7d4a418-0007-4030-8d74-819a5ac3b7cd",
   "metadata": {},
   "outputs": [
    {
     "data": {
      "text/plain": [
       "array([0.1  , 0.325, 0.55 , 0.775, 1.   ])"
      ]
     },
     "execution_count": 54,
     "metadata": {},
     "output_type": "execute_result"
    }
   ],
   "source": [
    "import numpy as np\n",
    "train_sizes = np.linspace(0.1, 1.0, num=5, endpoint=True)\n",
    "train_sizes"
   ]
  },
  {
   "cell_type": "markdown",
   "id": "41b3ad72-25e5-4c68-a0e7-0c0c83fb9d66",
   "metadata": {},
   "source": [
    "Мы будем использовать ShuffleSplitперекрестную проверку для оценки нашей прогностической модели."
   ]
  },
  {
   "cell_type": "code",
   "execution_count": 56,
   "id": "1262eb06-7adc-4d9d-be1f-9f5027123bd7",
   "metadata": {},
   "outputs": [],
   "source": [
    "from sklearn.model_selection import ShuffleSplit\n",
    "\n",
    "cv = ShuffleSplit(n_splits=30, test_size=0.2)"
   ]
  },
  {
   "cell_type": "markdown",
   "id": "235e1c34-0c39-4d16-bb4b-0fbc1430b0fd",
   "metadata": {},
   "source": [
    "Теперь все готово для проведения эксперимента."
   ]
  },
  {
   "cell_type": "markdown",
   "id": "d655e81d-e966-4eb8-8185-af59c21d247f",
   "metadata": {},
   "source": [
    "from sklearn.model_selection import learning_curve\n",
    "\n",
    "results = learning_curve(\n",
    "    regressor, data, target, train_sizes=train_sizes, cv=cv,\n",
    "    scoring=\"neg_mean_absolute_error\", n_jobs=2)\n",
    "train_size, train_scores, test_scores = results[:3]\n",
    "# Convert the scores into errors\n",
    "train_errors, test_errors = -train_scores, -test_scores"
   ]
  },
  {
   "cell_type": "markdown",
   "id": "7dbdb2e7-0026-4bef-a859-523a8ad589d6",
   "metadata": {},
   "source": [
    "Теперь мы можем построить кривую."
   ]
  },
  {
   "cell_type": "code",
   "execution_count": 59,
   "id": "5899579c-db2e-408b-92d7-ee3539b167ef",
   "metadata": {},
   "outputs": [
    {
     "data": {
      "image/png": "[encoded data removed]",
      "text/plain": [
       "<Figure size 432x288 with 1 Axes>"
      ]
     },
     "metadata": {
      "needs_background": "light"
     },
     "output_type": "display_data"
    }
   ],
   "source": [
    "import matplotlib.pyplot as plt\n",
    "\n",
    "plt.errorbar(train_size, train_errors.mean(axis=1),\n",
    "             yerr=train_errors.std(axis=1), label=\"Training error\")\n",
    "plt.errorbar(train_size, test_errors.mean(axis=1),\n",
    "             yerr=test_errors.std(axis=1), label=\"Testing error\")\n",
    "plt.legend()\n",
    "\n",
    "plt.xscale(\"log\")\n",
    "plt.xlabel(\"Number of samples in the training set\")\n",
    "plt.ylabel(\"Mean absolute error (k$)\")\n",
    "_ = plt.title(\"Learning curve for decision tree\")"
   ]
  },
  {
   "cell_type": "raw",
   "id": "d5b134f2-c02f-40cf-a35f-5560a84eebc8",
   "metadata": {},
   "source": [
    "Глядя только на ошибку обучения, мы видим, что мы получаем ошибку 0 k$. Это означает, что обученная модель (т.е. дерево решений) явно превосходит обучающие данные.\n",
    "\n",
    "Глядя только на ошибку тестирования, мы видим, что чем больше образцов добавляется в обучающий набор, тем меньше становится ошибка тестирования. Кроме того, мы ищем плато ошибки тестирования, для которого больше нет смысла добавлять образцы, или оцениваем потенциальный выигрыш от добавления большего количества образцов в обучающую выборку.\n",
    "\n",
    "Если мы достигнем плато и добавление новых образцов в обучающий набор не уменьшит ошибку тестирования, мы могли бы достичь коэффициента байесовской ошибки, используя доступную модель. Использование более сложной модели может быть единственной возможностью еще больше уменьшить ошибку тестирования."
   ]
  },
  {
   "cell_type": "markdown",
   "id": "63f72b55-63ac-4d53-9fe0-0210ceba1077",
   "metadata": {},
   "source": [
    "Резюме \n",
    "В тетради мы узнали:\n",
    "\n",
    "влияние количества выборок в наборе данных, особенно на изменчивость ошибок, сообщаемых при выполнении перекрестной проверки;\n",
    "\n",
    "о кривой обучения, которая представляет собой визуальное представление способности модели улучшаться за счет добавления новых образцов."
   ]
  },
  {
   "cell_type": "markdown",
   "id": "91f7f95e-541a-4664-a602-85c28fbefd1f",
   "metadata": {},
   "source": [
    "## Решение упражнения М2.01 \n",
    "Цель этого упражнения состоит в том, чтобы провести следующие эксперименты:\n",
    "\n",
    "обучать и тестировать машинный классификатор опорных векторов посредством перекрестной проверки;\n",
    "\n",
    "изучить влияние гамма-параметра этого классификатора с помощью проверочной кривой;\n",
    "\n",
    "используйте кривую обучения, чтобы определить полезность добавления новых выборок в набор данных при построении классификатора.\n",
    "\n",
    "Чтобы провести эти эксперименты, мы сначала загрузим набор данных переливания крови."
   ]
  },
  {
   "cell_type": "code",
   "execution_count": 60,
   "id": "4326d1be-8109-4555-9d42-d73672ab12dc",
   "metadata": {},
   "outputs": [],
   "source": [
    "import pandas as pd\n",
    "\n",
    "blood_transfusion = pd.read_csv(\"data/blood_transfusion.csv\")\n",
    "data = blood_transfusion.drop(columns=\"Class\")\n",
    "target = blood_transfusion[\"Class\"]"
   ]
  },
  {
   "cell_type": "markdown",
   "id": "e11d59e9-4fff-4d3c-b4c8-d206b0eb903f",
   "metadata": {},
   "source": [
    "Мы будем использовать классификатор машины опорных векторов (SVM). В своей самой простой форме классификатор SVM представляет собой линейный классификатор, ведущий себя аналогично логистической регрессии. Действительно, оптимизация, используемая для нахождения оптимальных весов линейной модели, отличается, но нам не нужно знать эти детали для упражнения.\n",
    "\n",
    "Кроме того, этот классификатор может стать более гибким/выразительным за счет использования так называемого ядра, которое делает модель нелинейной. Опять же, для выполнения этого упражнения не требуется никаких математических знаний.\n",
    "\n",
    "Мы будем использовать ядро ​​RBF, где параметр gammaпозволяет настроить гибкость модели.\n",
    "\n",
    "Сначала давайте создадим конвейер прогнозирования, состоящий из:\n",
    "\n",
    "a sklearn.preprocessing.StandardScaler с параметром по умолчанию;\n",
    "\n",
    "a, sklearn.svm.SVC где параметр kernelможет быть установлен в \"rbf\". Обратите внимание, что это значение по умолчанию."
   ]
  },
  {
   "cell_type": "code",
   "execution_count": 61,
   "id": "a52e2844-4ec4-4527-9c3a-1b8e01e10563",
   "metadata": {},
   "outputs": [],
   "source": [
    "# solution\n",
    "from sklearn.pipeline import make_pipeline\n",
    "from sklearn.preprocessing import StandardScaler\n",
    "from sklearn.svm import SVC\n",
    "\n",
    "model = make_pipeline(StandardScaler(), SVC())"
   ]
  },
  {
   "cell_type": "markdown",
   "id": "6639b995-5760-4ac1-bdb6-70c92ff7e6e3",
   "metadata": {},
   "source": [
    "Оцените эффективность обобщения вашей модели путем перекрестной проверки со ShuffleSplitсхемой. Таким образом, вы можете использовать sklearn.model_selection.cross_validate и передать sklearn.model_selection.ShuffleSplit в cvпараметр. Исправьте только random_state=0в ShuffleSplit и оставьте остальные параметры по умолчанию."
   ]
  },
  {
   "cell_type": "code",
   "execution_count": 62,
   "id": "ebdea2b5-e072-48f9-8def-b2d4d73b7f77",
   "metadata": {},
   "outputs": [
    {
     "data": {
      "text/html": [
       "<div>\n",
       "<style scoped>\n",
       "    .dataframe tbody tr th:only-of-type {\n",
       "        vertical-align: middle;\n",
       "    }\n",
       "\n",
       "    .dataframe tbody tr th {\n",
       "        vertical-align: top;\n",
       "    }\n",
       "\n",
       "    .dataframe thead th {\n",
       "        text-align: right;\n",
       "    }\n",
       "</style>\n",
       "<table border=\"1\" class=\"dataframe\">\n",
       "  <thead>\n",
       "    <tr style=\"text-align: right;\">\n",
       "      <th></th>\n",
       "      <th>fit_time</th>\n",
       "      <th>score_time</th>\n",
       "      <th>test_score</th>\n",
       "    </tr>\n",
       "  </thead>\n",
       "  <tbody>\n",
       "    <tr>\n",
       "      <th>0</th>\n",
       "      <td>0.016926</td>\n",
       "      <td>0.003991</td>\n",
       "      <td>0.680000</td>\n",
       "    </tr>\n",
       "    <tr>\n",
       "      <th>1</th>\n",
       "      <td>0.015929</td>\n",
       "      <td>0.003989</td>\n",
       "      <td>0.746667</td>\n",
       "    </tr>\n",
       "    <tr>\n",
       "      <th>2</th>\n",
       "      <td>0.016954</td>\n",
       "      <td>0.003989</td>\n",
       "      <td>0.786667</td>\n",
       "    </tr>\n",
       "    <tr>\n",
       "      <th>3</th>\n",
       "      <td>0.016954</td>\n",
       "      <td>0.003991</td>\n",
       "      <td>0.800000</td>\n",
       "    </tr>\n",
       "    <tr>\n",
       "      <th>4</th>\n",
       "      <td>0.016955</td>\n",
       "      <td>0.002993</td>\n",
       "      <td>0.746667</td>\n",
       "    </tr>\n",
       "    <tr>\n",
       "      <th>5</th>\n",
       "      <td>0.015957</td>\n",
       "      <td>0.002992</td>\n",
       "      <td>0.786667</td>\n",
       "    </tr>\n",
       "    <tr>\n",
       "      <th>6</th>\n",
       "      <td>0.014960</td>\n",
       "      <td>0.002992</td>\n",
       "      <td>0.800000</td>\n",
       "    </tr>\n",
       "    <tr>\n",
       "      <th>7</th>\n",
       "      <td>0.014960</td>\n",
       "      <td>0.003989</td>\n",
       "      <td>0.826667</td>\n",
       "    </tr>\n",
       "    <tr>\n",
       "      <th>8</th>\n",
       "      <td>0.014961</td>\n",
       "      <td>0.003024</td>\n",
       "      <td>0.746667</td>\n",
       "    </tr>\n",
       "    <tr>\n",
       "      <th>9</th>\n",
       "      <td>0.013963</td>\n",
       "      <td>0.004017</td>\n",
       "      <td>0.733333</td>\n",
       "    </tr>\n",
       "  </tbody>\n",
       "</table>\n",
       "</div>"
      ],
      "text/plain": [
       "   fit_time  score_time  test_score\n",
       "0  0.016926    0.003991    0.680000\n",
       "1  0.015929    0.003989    0.746667\n",
       "2  0.016954    0.003989    0.786667\n",
       "3  0.016954    0.003991    0.800000\n",
       "4  0.016955    0.002993    0.746667\n",
       "5  0.015957    0.002992    0.786667\n",
       "6  0.014960    0.002992    0.800000\n",
       "7  0.014960    0.003989    0.826667\n",
       "8  0.014961    0.003024    0.746667\n",
       "9  0.013963    0.004017    0.733333"
      ]
     },
     "execution_count": 62,
     "metadata": {},
     "output_type": "execute_result"
    }
   ],
   "source": [
    "# solution\n",
    "from sklearn.model_selection import cross_validate, ShuffleSplit\n",
    "\n",
    "cv = ShuffleSplit(random_state=0)\n",
    "cv_results = cross_validate(model, data, target, cv=cv, n_jobs=2)\n",
    "cv_results = pd.DataFrame(cv_results)\n",
    "cv_results"
   ]
  },
  {
   "cell_type": "code",
   "execution_count": 63,
   "id": "00cc9b49-cbe2-4731-aecd-14406b3aec50",
   "metadata": {},
   "outputs": [
    {
     "name": "stdout",
     "output_type": "stream",
     "text": [
      "Accuracy score of our model:\n",
      "0.765 ± 0.043\n"
     ]
    }
   ],
   "source": [
    "print(\n",
    "    f\"Accuracy score of our model:\\n\"\n",
    "    f\"{cv_results['test_score'].mean():.3f} ± \"\n",
    "    f\"{cv_results['test_score'].std():.3f}\"\n",
    ")"
   ]
  },
  {
   "cell_type": "markdown",
   "id": "9b415ab7-f1e9-4743-9d6a-4d0182d60d4c",
   "metadata": {},
   "source": [
    "Как упоминалось ранее, этот параметр gammaявляется одним из параметров, контролирующих подгонку/подгонку в машине опорных векторов с ядром RBF.\n",
    "\n",
    "Оцените влияние параметра gammaс помощью sklearn.model_selection.validation_curve функции. Вы можете оставить значение по умолчанию scoring=None, которое эквивалентно scoring=\"accuracy\"задачам классификации. Вы можете варьировать gammaмежду 10e-3и 10e2путем создания образцов в логарифмическом масштабе с помощью .np.logspace(-3, 2, num=30)\n",
    "\n",
    "Поскольку мы манипулируем, Pipeline имя параметра будет установлено svc__gamma вместо только gamma. Вы можете получить имя параметра, используя model.get_params().keys(). Мы более подробно рассмотрим доступ и настройку гиперпараметра в следующем разделе."
   ]
  },
  {
   "cell_type": "code",
   "execution_count": 64,
   "id": "7b9095d5-bbde-462f-9992-36bdf7d1080b",
   "metadata": {},
   "outputs": [],
   "source": [
    "# solution\n",
    "import numpy as np\n",
    "from sklearn.model_selection import validation_curve\n",
    "\n",
    "gammas = np.logspace(-3, 2, num=30)\n",
    "param_name = \"svc__gamma\"\n",
    "train_scores, test_scores = validation_curve(\n",
    "    model, data, target, param_name=param_name, param_range=gammas, cv=cv,\n",
    "    n_jobs=2)"
   ]
  },
  {
   "cell_type": "markdown",
   "id": "0d8489c1-1e34-430c-b0f1-bd02774afd86",
   "metadata": {},
   "source": [
    "Постройте кривую проверки для результатов поезда и теста."
   ]
  },
  {
   "cell_type": "code",
   "execution_count": 65,
   "id": "aad53508-1419-4af2-aed8-dcae21e6d523",
   "metadata": {},
   "outputs": [
    {
     "data": {
      "image/png": "[encoded data removed]",
      "text/plain": [
       "<Figure size 432x288 with 1 Axes>"
      ]
     },
     "metadata": {
      "needs_background": "light"
     },
     "output_type": "display_data"
    }
   ],
   "source": [
    "# solution\n",
    "import matplotlib.pyplot as plt\n",
    "\n",
    "plt.errorbar(\n",
    "    gammas,\n",
    "    train_scores.mean(axis=1),\n",
    "    yerr=train_scores.std(axis=1),\n",
    "    alpha=0.95,\n",
    "    label=\"Training score\",\n",
    ")\n",
    "plt.errorbar(\n",
    "    gammas,\n",
    "    test_scores.mean(axis=1),\n",
    "    yerr=test_scores.std(axis=1),\n",
    "    alpha=0.5,\n",
    "    label=\"Testing score\",\n",
    ")\n",
    "plt.legend()\n",
    "\n",
    "plt.xscale(\"log\")\n",
    "plt.xlabel(r\"Value of hyperparameter $\\gamma$\")\n",
    "plt.ylabel(\"Accuracy score\")\n",
    "_ = plt.title(\"Validation score of support vector machine\")"
   ]
  },
  {
   "cell_type": "markdown",
   "id": "1eed7eb8-a80b-477f-9375-aadc278cee20",
   "metadata": {},
   "source": [
    "Глядя на кривую, мы можем четко определить режим переобучения классификатора SVC, когда . Наилучшие настройки находятся примерно в то время как для , не очень ясно, подходит ли классификатор недостаточно, но результат тестирования хуже, чем для .gamma > 1gamma = 1gamma < 1gamma = 1\n",
    "\n",
    "Теперь вы можете выполнить анализ, чтобы проверить, может ли добавление новых выборок в набор данных помочь нашей модели лучше обобщать. Вычислите кривую обучения (используя sklearn.model_selection.learning_curve) путем вычисления результатов обучения и тестов для различного размера набора обучающих данных. Постройте поезд и результаты тестов в зависимости от количества выборок."
   ]
  },
  {
   "cell_type": "code",
   "execution_count": 66,
   "id": "fd2786e5-8e50-4f92-b1c6-6e75afada829",
   "metadata": {},
   "outputs": [],
   "source": [
    "# solution\n",
    "from sklearn.model_selection import learning_curve\n",
    "\n",
    "train_sizes = np.linspace(0.1, 1, num=10)\n",
    "results = learning_curve(\n",
    "    model, data, target, train_sizes=train_sizes, cv=cv, n_jobs=2)\n",
    "train_size, train_scores, test_scores = results[:3]"
   ]
  },
  {
   "cell_type": "code",
   "execution_count": 67,
   "id": "de6c9dc8-7176-4f47-b77e-fb91db0d7adb",
   "metadata": {},
   "outputs": [
    {
     "data": {
      "image/png": "[encoded data removed]",
      "text/plain": [
       "<Figure size 432x288 with 1 Axes>"
      ]
     },
     "metadata": {
      "needs_background": "light"
     },
     "output_type": "display_data"
    }
   ],
   "source": [
    "plt.errorbar(\n",
    "    train_size,\n",
    "    train_scores.mean(axis=1),\n",
    "    yerr=train_scores.std(axis=1),\n",
    "    alpha=0.95,\n",
    "    label=\"Training score\",\n",
    ")\n",
    "plt.errorbar(\n",
    "    train_size,\n",
    "    test_scores.mean(axis=1),\n",
    "    yerr=test_scores.std(axis=1),\n",
    "    alpha=0.5,\n",
    "    label=\"Testing score\",\n",
    ")\n",
    "plt.legend(bbox_to_anchor=(1.05, 0.8), loc=\"upper left\")\n",
    "\n",
    "plt.xlabel(\"Number of samples in the training set\")\n",
    "plt.ylabel(\"Accuracy\")\n",
    "_ = plt.title(\"Learning curve for support vector machine\")"
   ]
  },
  {
   "cell_type": "markdown",
   "id": "0de27de9-6ae0-4ed9-8689-23de7b3723f7",
   "metadata": {},
   "source": [
    "Мы наблюдаем, что добавление новых образцов в набор обучающих данных, по-видимому, не улучшает результаты обучения и тестирования. В частности, точность результатов тестирования колеблется в районе 76%. Действительно, ~76% образцов относятся к классу . Обратите внимание, что классификатор, который всегда предсказывает класс, достигнет точности 76% без использования какой-либо информации из самих данных. Это может означать, что наш небольшой конвейер не может использовать входные функции для улучшения этого упрощенного базового уровня, и увеличение размера обучающей выборки также не помогает.\"not donated\"\"not donated\"\n",
    "\n",
    "Возможно, входные признаки принципиально малоинформативны и задачу классификации принципиально невозможно решить с высокой точностью. Но также может случиться так, что наш выбор использования значения гиперпараметра по умолчанию для SVCкласса был плохой идеей или что выбор SVCкласса сам по себе неоптимален.\n",
    "\n",
    "Позже в этом МООК мы увидим, как лучше настраивать гиперпараметры модели, и узнаем, как более систематически сравнивать прогностическую эффективность различных классов моделей."
   ]
  },
  {
   "cell_type": "markdown",
   "id": "0482523f-4400-4b24-b08c-58d9e432da70",
   "metadata": {},
   "source": [
    "#### Главный вывод \n",
    "Подведение итогов \n",
    "Переобучение вызвано ограниченным размером обучающей выборки , шумом в данных и высокой гибкостью распространенных моделей машинного обучения.\n",
    "\n",
    "Недообучение происходит, когда изученные функции прогнозирования страдают от систематических ошибок . Это может быть вызвано выбором семейства моделей и параметров, что приводит к недостаточной гибкости для захвата повторяемой структуры реального процесса генерации данных.\n",
    "\n",
    "Для фиксированного обучающего набора цель состоит в том, чтобы свести к минимуму ошибку теста путем настройки семейства моделей и его параметров, чтобы найти наилучший компромисс между переоснащением и недообучением .\n",
    "\n",
    "При данном выборе семейства моделей и параметров увеличение размера обучающей выборки уменьшит переоснащение, но также может привести к увеличению недообучения.\n",
    "\n",
    "Ошибка теста модели, которая не является ни переоснащением, ни недообучением, все еще может быть высокой, если вариации целевой переменной не могут быть полностью определены входными признаками. Эта неустранимая ошибка вызвана тем, что мы иногда называем шумом этикетки. На практике это часто происходит, когда мы не имеем доступа к важным функциям по той или иной причине."
   ]
  },
  {
   "cell_type": "code",
   "execution_count": null,
   "id": "bf124097-7695-4764-ba39-7af69b35443a",
   "metadata": {},
   "outputs": [],
   "source": []
  }
 ],
 "metadata": {
  "kernelspec": {
   "display_name": "Python 3 (ipykernel)",
   "language": "python",
   "name": "python3"
  },
  "language_info": {
   "codemirror_mode": {
    "name": "ipython",
    "version": 3
   },
   "file_extension": ".py",
   "mimetype": "text/x-python",
   "name": "python",
   "nbconvert_exporter": "python",
   "pygments_lexer": "ipython3",
   "version": "3.9.7"
  }
 },
 "nbformat": 4,
 "nbformat_minor": 5
}
